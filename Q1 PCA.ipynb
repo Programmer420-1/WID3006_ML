{
 "cells": [
  {
   "cell_type": "code",
   "execution_count": 117,
   "id": "b38fb7d0",
   "metadata": {},
   "outputs": [],
   "source": [
    "import numpy as np\n",
    "import matplotlib.pyplot as plt"
   ]
  },
  {
   "cell_type": "code",
   "execution_count": 118,
   "id": "36fa8e9d",
   "metadata": {},
   "outputs": [
    {
     "name": "stdout",
     "output_type": "stream",
     "text": [
      "Ori Feature Vectors:\n",
      "[[0.5 0.7]\n",
      " [1.  1.1]\n",
      " [1.5 1.6]\n",
      " [1.1 0.9]\n",
      " [1.9 2.2]\n",
      " [2.2 2.9]\n",
      " [2.6 2.7]\n",
      " [2.  1.6]\n",
      " [2.5 2.4]\n",
      " [3.1 3. ]]\n"
     ]
    }
   ],
   "source": [
    "x1 = np.array([0.5,1,1.5,1.1,1.9,2.2,2.6,2,2.5,3.1])\n",
    "x2 = np.array([0.7,1.1,1.6,0.9,2.2,2.9,2.7,1.6,2.4,3])\n",
    "print(\"Ori Feature Vectors:\")\n",
    "print(np.array([x1,x2]).T)"
   ]
  },
  {
   "cell_type": "code",
   "execution_count": 119,
   "id": "4407a8e0",
   "metadata": {},
   "outputs": [],
   "source": [
    "# normalize the data\n",
    "x1 = (x1 - np.mean(x1, axis=0))/np.std(x1)\n",
    "x2 = (x2 - np.mean(x2, axis=0))/np.std(x2)"
   ]
  },
  {
   "cell_type": "code",
   "execution_count": 120,
   "id": "098c597d",
   "metadata": {},
   "outputs": [
    {
     "name": "stdout",
     "output_type": "stream",
     "text": [
      "Normalized Feature Vectors:\n",
      "[[-1.740994   -1.506743  ]\n",
      " [-1.09136937 -1.00864614]\n",
      " [-0.44174475 -0.38602507]\n",
      " [-0.96144445 -1.25769457]\n",
      " [ 0.07795496  0.36112022]\n",
      " [ 0.46772973  1.23278973]\n",
      " [ 0.98742943  0.9837413 ]\n",
      " [ 0.20787988 -0.38602507]\n",
      " [ 0.85750451  0.61016865]\n",
      " [ 1.63705406  1.35731394]]\n"
     ]
    }
   ],
   "source": [
    "# combine to 2d matrix of dimension 10x2\n",
    "X = np.vstack((x1, x2)).T\n",
    "print(\"Normalized Feature Vectors:\")\n",
    "print(X)\n",
    "# calculate the covariance matrix\n",
    "cov_mat = np.cov(X, rowvar = False )\n"
   ]
  },
  {
   "cell_type": "code",
   "execution_count": 107,
   "id": "b3e69068",
   "metadata": {},
   "outputs": [
    {
     "name": "stdout",
     "output_type": "stream",
     "text": [
      "Eigenvectors:\n",
      "[[-0.70710678 -0.70710678]\n",
      " [-0.70710678  0.70710678]]\n"
     ]
    }
   ],
   "source": [
    "# compute Eigenvalues and Eigenvectors\n",
    "U, S, V = np.linalg.svd(cov_mat)\n",
    "print(\"Eigenvectors:\")\n",
    "print(U)"
   ]
  },
  {
   "cell_type": "code",
   "execution_count": 108,
   "id": "15efcd02",
   "metadata": {},
   "outputs": [],
   "source": [
    "# keeping both eigenvectors\n",
    "n_comp = 2\n",
    "U_reduced = U[:, :n_comp]"
   ]
  },
  {
   "cell_type": "code",
   "execution_count": 109,
   "id": "40da9cef",
   "metadata": {},
   "outputs": [
    {
     "name": "stdout",
     "output_type": "stream",
     "text": [
      "(2, 2)\n",
      "(10, 2)\n",
      "Chosen eigenvector(s):\n",
      "[[-0.70710678 -0.70710678]\n",
      " [-0.70710678  0.70710678]]\n"
     ]
    }
   ],
   "source": [
    "# examine dimension\n",
    "print(U_reduced.shape)\n",
    "print(X.shape)\n",
    "print(\"Chosen eigenvector(s):\")\n",
    "print(U_reduced)\n",
    "# Transform the data \n",
    "fin_data_all = np.dot(U_reduced.transpose(),X.transpose()).transpose()"
   ]
  },
  {
   "cell_type": "code",
   "execution_count": 110,
   "id": "064162f3",
   "metadata": {},
   "outputs": [],
   "source": [
    "# keeping first eigenvectors\n",
    "n_comp = 1\n",
    "U_reduced = U[:, 0:n_comp]"
   ]
  },
  {
   "cell_type": "code",
   "execution_count": 111,
   "id": "babef334",
   "metadata": {},
   "outputs": [
    {
     "name": "stdout",
     "output_type": "stream",
     "text": [
      "(2, 1)\n",
      "(10, 2)\n",
      "Chosen eigenvector(s):\n",
      "[[-0.70710678]\n",
      " [-0.70710678]]\n"
     ]
    }
   ],
   "source": [
    "# examine dimension\n",
    "print(U_reduced.shape)\n",
    "print(X.shape)\n",
    "print(\"Chosen eigenvector(s):\")\n",
    "print(U_reduced)\n",
    "# Transform the data \n",
    "fin_data_first = np.dot(U_reduced.transpose(),X.transpose()).transpose()"
   ]
  },
  {
   "cell_type": "code",
   "execution_count": 112,
   "id": "8d9bca0d",
   "metadata": {},
   "outputs": [
    {
     "name": "stdout",
     "output_type": "stream",
     "text": [
      "Transformed Normalized Feature Vector - All components\n",
      "[[ 2.29649685  0.16564047]\n",
      " [ 1.48493521  0.05849416]\n",
      " [ 0.58532165  0.03939976]\n",
      " [ 1.56916825 -0.20948047]\n",
      " [-0.31047304  0.20022808]\n",
      " [-1.20244884  0.54097911]\n",
      " [-1.39382819 -0.0026079 ]\n",
      " [ 0.12596767 -0.41995421]\n",
      " [-1.03780164 -0.17489286]\n",
      " [-2.11733792 -0.19780613]]\n"
     ]
    }
   ],
   "source": [
    "# feature vectors with both eigenvectors\n",
    "print(\"Transformed Normalized Feature Vector - All components\")\n",
    "print(fin_data_all)"
   ]
  },
  {
   "cell_type": "code",
   "execution_count": 113,
   "id": "c663ea78",
   "metadata": {},
   "outputs": [
    {
     "name": "stdout",
     "output_type": "stream",
     "text": [
      "Transformed Normalized Feature Vector - 1st component\n",
      "[[ 2.29649685]\n",
      " [ 1.48493521]\n",
      " [ 0.58532165]\n",
      " [ 1.56916825]\n",
      " [-0.31047304]\n",
      " [-1.20244884]\n",
      " [-1.39382819]\n",
      " [ 0.12596767]\n",
      " [-1.03780164]\n",
      " [-2.11733792]]\n"
     ]
    }
   ],
   "source": [
    "# feature vectors with first eigenvector\n",
    "print(\"Transformed Normalized Feature Vector - 1st component\")\n",
    "print(fin_data_first)"
   ]
  }
 ],
 "metadata": {
  "kernelspec": {
   "display_name": "Python 3.10.2 64-bit",
   "language": "python",
   "name": "python3"
  },
  "language_info": {
   "codemirror_mode": {
    "name": "ipython",
    "version": 3
   },
   "file_extension": ".py",
   "mimetype": "text/x-python",
   "name": "python",
   "nbconvert_exporter": "python",
   "pygments_lexer": "ipython3",
   "version": "3.10.2"
  },
  "vscode": {
   "interpreter": {
    "hash": "ade9ca9ad1cf4bda96c0d5980c416026daf0da2c59688c235116de24d2527c86"
   }
  }
 },
 "nbformat": 4,
 "nbformat_minor": 5
}
